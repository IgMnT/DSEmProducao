{
 "cells": [
  {
   "cell_type": "code",
   "execution_count": null,
   "metadata": {},
   "outputs": [],
   "source": [
    "# Imports\n",
    "import math\n",
    "import pandas as pd\n",
    "import numpy as np\n",
    "import matplotlib.pyplot as plt\n",
    "import seaborn as sns\n",
    "import matplotlib.ticker as ticker\n",
    "import inflection\n",
    "import datetime\n"
   ]
  },
  {
   "cell_type": "code",
   "execution_count": null,
   "metadata": {},
   "outputs": [],
   "source": [
    "# Dataset Loading\n",
    "\n",
    "df_sales_raw = pd.read_csv('data/train.csv', low_memory=False)\n",
    "df_store_raw = pd.read_csv('data/store.csv', low_memory=False)\n",
    "\n",
    "df_raw = pd.merge (df_sales_raw, df_store_raw, how='left', on='Store')\n"
   ]
  },
  {
   "cell_type": "code",
   "execution_count": null,
   "metadata": {},
   "outputs": [],
   "source": [
    "# Descrição dos dados\n",
    "\n",
    "df1 = df_raw.copy()\n",
    "\n",
    "# Column Renaming\n",
    "\n",
    "cols_old = ['Store', 'DayOfWeek', 'Date', 'Sales', 'Customers', 'Open', 'Promo',\n",
    "       'StateHoliday', 'SchoolHoliday', 'Id', 'StoreType', 'Assortment',\n",
    "       'CompetitionDistance', 'CompetitionOpenSinceMonth',\n",
    "       'CompetitionOpenSinceYear', 'Promo2', 'Promo2SinceWeek',\n",
    "       'Promo2SinceYear', 'PromoInterval']\n",
    "\n",
    "snakecase = lambda x: inflection.underscore(x)\n",
    "cols_new = list(map(snakecase, cols_old))\n",
    "df1.columns = cols_new"
   ]
  },
  {
   "cell_type": "code",
   "execution_count": null,
   "metadata": {},
   "outputs": [],
   "source": [
    "# Data Dimensions\n",
    "\n",
    "print(\"Number of Rows: \", df1.shape[0])\n",
    "print(\"Number of Columns: \", df1.shape[1])"
   ]
  },
  {
   "cell_type": "code",
   "execution_count": null,
   "metadata": {},
   "outputs": [],
   "source": [
    "df1.dtypes"
   ]
  },
  {
   "cell_type": "code",
   "execution_count": null,
   "metadata": {},
   "outputs": [],
   "source": [
    "# Data Types\n",
    "df1['date'] = pd.to_datetime(df1['date'], format='%Y-%m-%d', errors='raise')\n"
   ]
  },
  {
   "cell_type": "code",
   "execution_count": null,
   "metadata": {},
   "outputs": [],
   "source": [
    "df1.isna().sum()"
   ]
  },
  {
   "cell_type": "code",
   "execution_count": null,
   "metadata": {},
   "outputs": [],
   "source": [
    " ## 1.5. Fillout NA\n",
    "             \n",
    "df1['competition_distance'] = df1['competition_distance'].apply( lambda x: 200000.0 if math.isnan( x ) else x )\n",
    "\n",
    "df1['competition_open_since_month'] = df1.apply( lambda x: x['date'].month if math.isnan( x['competition_open_since_month'] ) else x['competition_open_since_month'], axis=1 )\n",
    "\n",
    "df1['competition_open_since_year'] = df1.apply( lambda x: x['date'].year if math.isnan( x['competition_open_since_year'] ) else x['competition_open_since_year'], axis=1 )\n",
    "\n",
    "df1['promo2_since_week'] = df1.apply( lambda x: x['date'].week if math.isnan( x['promo2_since_week'] ) else x['promo2_since_week'], axis=1 )\n",
    "\n",
    "df1['promo2_since_year'] = df1.apply( lambda x: x['date'].year if math.isnan( x['promo2_since_year'] ) else x['promo2_since_year'], axis=1 )\n",
    "\n",
    "month_map = {1: 'Jan',  2: 'Fev',  3: 'Mar',  4: 'Apr',  5: 'May',  6: 'Jun',  7: 'Jul',  8: 'Aug',  9: 'Sep',  10: 'Oct', 11: 'Nov', 12: 'Dec'}\n",
    "\n",
    "df1['promo_interval'].fillna(0, inplace=True )\n",
    "\n",
    "df1['month_map'] = df1['date'].dt.month.map( month_map )\n",
    "\n",
    "df1['is_promo'] = df1[['promo_interval', 'month_map']].apply( lambda x: 0 if x['promo_interval'] == 0 else 1 if x['month_map'] in x['promo_interval'].split( ',' ) else 0, axis=1 )\n",
    "\n",
    "\n"
   ]
  },
  {
   "cell_type": "code",
   "execution_count": null,
   "metadata": {},
   "outputs": [],
   "source": [
    "## 1.6. Change Data Types\n",
    "df1['competition_open_since_month'] = df1['competition_open_since_month'].astype( int )\n",
    "df1['competition_open_since_year'] = df1['competition_open_since_year'].astype( int )\n",
    "\n",
    "df1['promo2_since_week'] = df1['promo2_since_week'].astype( int )\n",
    "df1['promo2_since_year'] = df1['promo2_since_year'].astype( int )\n",
    "        \n",
    "        "
   ]
  },
  {
   "cell_type": "code",
   "execution_count": null,
   "metadata": {},
   "outputs": [],
   "source": [
    "## 1.7. Descriptive Statistics\n",
    "\n",
    "num_attributes = df1.select_dtypes( include=['int64', 'float64'] )\n",
    "cat_attributes = df1.select_dtypes(exclude=['int64', 'float64', 'datetime64[ns]'])"
   ]
  },
  {
   "cell_type": "code",
   "execution_count": null,
   "metadata": {},
   "outputs": [],
   "source": [
    "## 1.7.1. Numerical Atributes\n",
    "\n",
    "# Central Tendency - mean, meadina\n",
    "ct1 = pd.DataFrame( num_attributes.apply( np.mean ) ).T\n",
    "ct2 = pd.DataFrame( num_attributes.apply( np.median ) ).T\n",
    "# dispersion - std, min, max, range, skew, kurtosis\n",
    "d1 = pd.DataFrame( num_attributes.apply( np.std ) ).T\n",
    "d2 = pd.DataFrame( num_attributes.apply( min ) ).T\n",
    "d3 = pd.DataFrame( num_attributes.apply( max ) ).T\n",
    "d4 = pd.DataFrame( num_attributes.apply( lambda x: x.max() - x.min() ) ).T\n",
    "d5 = pd.DataFrame( num_attributes.apply( lambda x: x.skew() ) ).T\n",
    "d6 = pd.DataFrame( num_attributes.apply( lambda x: x.kurtosis() ) ).T\n",
    "# concatenar\n",
    "m = pd.concat( [d2, d3, d4, ct1, ct2, d1, d5, d6] ).T.reset_index()\n",
    "m.columns = ['attributes', 'min', 'max', 'range', 'mean', 'median', 'std', 'skew', 'kurtosis']\n",
    "sns.distplot( df1['competition_distance'], kde=False )"
   ]
  },
  {
   "cell_type": "code",
   "execution_count": null,
   "metadata": {},
   "outputs": [],
   "source": [
    "## 1.7.2. Categorical Atributes\n",
    "\n",
    "cat_attributes.apply( lambda x: x.unique().shape[0] )\n",
    "aux = df1[(df1['state_holiday'] != '0') & (df1['sales'] > 0)]\n",
    "plt.subplot( 1, 3, 1 )\n",
    "sns.boxplot( x='state_holiday', y='sales', data=aux )\n",
    "plt.subplot( 1, 3, 2 )\n",
    "sns.boxplot( x='store_type', y='sales', data=aux )\n",
    "plt.subplot( 1, 3, 3 )\n",
    "sns.boxplot( x='assortment', y='sales', data=aux )\n",
    "\n"
   ]
  },
  {
   "cell_type": "code",
   "execution_count": null,
   "metadata": {},
   "outputs": [],
   "source": [
    "df2 = df1.copy()    \n",
    "# Feature Engineering\n",
    "\n",
    "# year\n",
    "df2['year'] = df2['date'].dt.year\n",
    "\n",
    "        # month\n",
    "df2['month'] = df2['date'].dt.month\n",
    "\n",
    "        # day\n",
    "df2['day'] = df2['date'].dt.day\n",
    "\n",
    "        # week of year\n",
    "df2['week_of_year'] = df2['date'].dt.isocalendar().week\n",
    "        # year week\n",
    "df2['year_week'] = df2['date'].dt.strftime( '%Y-%W' )\n",
    "\n",
    "        # competition since\n",
    "df2['competition_since'] = df2.apply( lambda x: datetime.datetime( year=x['competition_open_since_year'], month=x['competition_open_since_month'],day=1 ), axis=1 )\n",
    "df2['competition_time_month'] = ( ( df2['date'] - df2['competition_since'] )/30 ).apply( lambda x: x.days ).astype( int )\n",
    "\n",
    "        # promo since\n",
    "df2['promo_since'] = df2['promo2_since_year'].astype( str ) + '-' + df2['promo2_since_week'].astype( str )\n",
    "df2['promo_since'] = df2['promo_since'].apply( lambda x: datetime.datetime.strptime( x + '-1', '%Y-%W-%w' ) - datetime.timedelta( days=7 ) )\n",
    "df2['promo_time_week'] = ( ( df2['date'] - df2['promo_since'] )/7 ).apply( lambda x: x.days ).astype( int )\n",
    "\n",
    "        # assortment\n",
    "df2['assortment'] = df2['assortment'].apply( lambda x: 'basic' if x == 'a' else 'extra' if x == 'b' else 'extended' )\n",
    "\n",
    "        # state holiday\n",
    "df2['state_holiday'] = df2['state_holiday'].apply( lambda x: 'public_holiday' if x == 'a' else 'easter_holiday' if x == 'b' else 'christmas' if x == 'c' else 'regular_day' )"
   ]
  },
  {
   "cell_type": "code",
   "execution_count": null,
   "metadata": {},
   "outputs": [],
   "source": [
    "##3.2 2.2. Criacao das Hipoteses\n",
    "#3.2.1 2.2.1. Hipoteses Loja\n",
    "#1. Lojas com número maior de funcionários deveriam vender mais.\n",
    "#2. Lojas com maior capacidade de estoque deveriam vender mais.\n",
    "#3. Lojas com maior porte deveriam vender mais.\n",
    "#4. Lojas com maior sortimentos deveriam vender mais.\n",
    "#5. Lojas com competidores mais próximos deveriam vender menos.\n",
    "#6. Lojas com competidores à mais tempo deveriam vendem mais.\n",
    "#3.2.2 2.2.2. Hipoteses Produto\n",
    "#1. Lojas que investem mais em Marketing deveriam vender mais.\n",
    "#2. Lojas com maior exposição de produto deveriam vender mais.\n",
    "#3. Lojas com produtos com preço menor deveriam vender mais.\n",
    "#5. Lojas com promoções mais agressivas ( descontos maiores ), deveriam vender mais.\n",
    "#6. Lojas com promoções ativas por mais tempo deveriam vender mais.\n",
    "#7. Lojas com mais dias de promoção deveriam vender mais.\n",
    "#8. Lojas com mais promoções consecutivas deveriam vender mais.\n",
    "#3.2.3 2.2.3. Hipoteses Tempo\n",
    "#1. Lojas abertas durante o feriado de Natal deveriam vender mais.\n",
    "#2. Lojas deveriam vender mais ao longo dos anos.\n",
    "#3. Lojas deveriam vender mais no segundo semestre do ano.\n",
    "#4. Lojas deveriam vender mais depois do dia 10 de cada mês.\n",
    "#5. Lojas deveriam vender menos aos finais de semana.\n",
    "#6. Lojas deveriam vender menos durante os feriados escolares.\n",
    "#3.3 2.3. Lista Final de Hipóteses\n",
    "#1. Lojas com maior sortimentos deveriam vender mais.\n",
    "#2. Lojas com competidores mais próximos deveriam vender menos.\n",
    "#3. Lojas com competidores à mais tempo deveriam vendem mais.\n",
    "#4. Lojas com promoções ativas por mais tempo deveriam vender mais.\n",
    "#5. Lojas com mais dias de promoção deveriam vender mais.\n",
    "#7. Lojas com mais promoções consecutivas deveriam vender mais.\n",
    "#8. Lojas abertas durante o feriado de Natal deveriam vender mais.\n",
    "#9. Lojas deveriam vender mais ao longo dos anos.\n",
    "#10. Lojas deveriam vender mais no segundo semestre do ano.\n",
    "#11. Lojas deveriam vender mais depois do dia 10 de cada mês.\n",
    "#12. Lojas deveriam vender menos aos finais de semana.\n",
    "#13. Lojas deveriam vender menos durante os feriados escolares.\n"
   ]
  },
  {
   "cell_type": "code",
   "execution_count": null,
   "metadata": {},
   "outputs": [],
   "source": [
    "df3 = df2.copy()\n",
    "### Exploratory Data Analysis (EDA)\n",
    "## Lojas com maior assortment deve vender mais\n",
    "aux1 = df3[['assortment', 'sales']].groupby( 'assortment' ).sum().reset_index()\n",
    "aux2 = df3[['assortment', 'sales', 'year_week']].groupby([ 'assortment' , 'year_week']).mean().reset_index()\n",
    "aux2.pivot( index='year_week', columns='assortment', values='sales').plot()\n",
    "\n"
   ]
  },
  {
   "cell_type": "code",
   "execution_count": null,
   "metadata": {},
   "outputs": [],
   "source": [
    "## Lojas com competidoress mais proximos devem vender menos\n",
    "aux1 = df3[['competition_distance', 'sales']].groupby( 'competition_distance' ).sum().reset_index()\n",
    "\n",
    "bins = list(np.arange(0, 20000, 1000))\n",
    "\n",
    "aux1['competition_distance_binned'] = pd.cut(aux1['competition_distance'], bins=bins)\n",
    "\n",
    "aux2 = aux1[['competition_distance_binned', 'sales']].groupby('competition_distance_binned').sum().reset_index()\n",
    "\n",
    "plt.subplot(1, 3, 1)\n",
    "sns.scatterplot(x='competition_distance', y='sales', data=aux1, alpha=0.5);\n",
    "plt.subplot(1, 3, 2)\n",
    "sns.barplot(x='competition_distance_binned', y='sales', data=aux2, width=0.1, color='blue');\n",
    "\n",
    "\n",
    "plt.subplot(1, 3, 3)\n",
    "numeric_cols = aux1.select_dtypes(include=['float64', 'int64'])\n",
    "sns.heatmap(numeric_cols.corr(method='pearson'), annot=True);\n",
    "\n"
   ]
  },
  {
   "cell_type": "code",
   "execution_count": null,
   "metadata": {},
   "outputs": [],
   "source": [
    "## Lojas com comeptidores mais antigos devem vender mais\n",
    "plt.subplot( 1, 3, 1 )\n",
    "aux1 = df3[['competition_time_month', 'sales']].groupby('competition_time_month' ).sum().reset_index()\n",
    "aux2 = aux1[( aux1['competition_time_month'] < 120 ) & (\n",
    "aux1['competition_time_month'] != 0 )]\n",
    "sns.barplot( x='competition_time_month', y='sales', data=aux2 );\n",
    "plt.xticks( rotation=90 );\n",
    "plt.subplot( 1, 3, 2 )\n",
    "sns.regplot( x='competition_time_month', y='sales', data=aux2 );\n",
    "plt.subplot( 1, 3, 3 )\n",
    "x = sns.heatmap( aux1.corr( method='pearson'), annot=True );\n",
    "bottom, top = x.get_ylim()\n",
    "x.set_ylim( bottom+0.5, top-0.5);"
   ]
  },
  {
   "cell_type": "code",
   "execution_count": null,
   "metadata": {},
   "outputs": [],
   "source": [
    "#4. Lojas com promoções ativas por mais tempo deveriam vender mais.\n",
    "aux1 = df3[['promo_time_week', 'sales']].groupby('promo_time_week').sum().reset_index()\n",
    "aux2 = aux1[(aux1['promo_time_week'] != 0)]\n",
    "plt.figure(figsize=(20, 7))  # Largura de 20 e altura de 5\n",
    "plt.subplot(2, 1, 1)\n",
    "sns.barplot(x='promo_time_week', y='sales', data=aux2);\n",
    "plt.xticks(rotation=90);\n",
    "plt.subplot(2, 1, 2)\n",
    "sns.scatterplot(x='promo_time_week', y='sales', data=aux2);\n",
    "\n",
    "plt.tight_layout()  # Ajusta automaticamente os espaços entre os gráficos\n",
    "plt.show()"
   ]
  },
  {
   "cell_type": "code",
   "execution_count": null,
   "metadata": {},
   "outputs": [],
   "source": [
    "df3.dtypes\n",
    "#Loja aberta em feriado de Natal deve vender mais\n",
    "filtered = df3[(df3['open'] == 1) & (df3['state_holiday'] != 'regular_day')]\n",
    "aux1 = filtered[['state_holiday', 'sales']].groupby('state_holiday').sum().reset_index()\n",
    "\n",
    "#falso\n"
   ]
  },
  {
   "cell_type": "code",
   "execution_count": null,
   "metadata": {},
   "outputs": [],
   "source": [
    "#9. Lojas deveriam vender mais ao longo dos anos.\n",
    "aux1 = df3[['year', 'sales']].groupby('year').sum().reset_index()\n",
    "plt.figure(figsize=(20, 7))  # Largura de 20 e altura de 5\n",
    "\n",
    "plt.subplot(1, 3, 1)\n",
    "sns.barplot(x='year', y='sales', data=aux1);\n",
    "plt.subplot(1, 3, 2)\n",
    "sns.regplot(x='year', y='sales', data=aux1);\n",
    "plt.subplot(1, 3, 3)\n",
    "sns.heatmap(aux1.corr(method='pearson'));\n",
    "\n",
    "#Falso"
   ]
  },
  {
   "cell_type": "code",
   "execution_count": null,
   "metadata": {},
   "outputs": [],
   "source": [
    "# Lojas deveriam vender mais no segundo semestre do ano.\n",
    "aux1 = df3[['month', 'sales']].groupby('month').sum().reset_index()\n",
    "plt.figure(figsize=(20, 7))  # Largura de 20 e altura de 5\n",
    "\n",
    "plt.subplot(1, 3, 1)\n",
    "sns.barplot(x='month', y='sales', data=aux1);\n",
    "plt.subplot(1, 3, 2)\n",
    "sns.regplot(x='month', y='sales', data=aux1);\n",
    "plt.subplot(1, 3, 3)\n",
    "sns.heatmap(aux1.corr(method='pearson'));\n",
    "\n"
   ]
  },
  {
   "cell_type": "code",
   "execution_count": 28,
   "metadata": {},
   "outputs": [
    {
     "data": {
      "image/png": "[encoded data removed]",
      "text/plain": [
       "<Figure size 2000x700 with 4 Axes>"
      ]
     },
     "metadata": {},
     "output_type": "display_data"
    }
   ],
   "source": [
    "#11. Lojas deveriam vender mais depois do dia 10 de cada mês.\n",
    "aux1 = df3[['day', 'sales']].groupby('day').sum().reset_index()\n",
    "\n",
    "plt.figure(figsize=(20, 7))  # Largura de 20 e altura de 5\n",
    "plt.subplot(1, 3, 1)\n",
    "sns.barplot(x='day', y='sales', data=aux1);\n",
    "plt.subplot(1, 3, 2)\n",
    "sns.regplot(x='day', y='sales', data=aux1);\n",
    "plt.subplot(1, 3, 3)\n",
    "sns.heatmap(aux1.corr(method='pearson'));"
   ]
  },
  {
   "cell_type": "code",
   "execution_count": 29,
   "metadata": {},
   "outputs": [
    {
     "data": {
      "text/plain": [
       "Index(['store', 'day_of_week', 'date', 'sales', 'customers', 'open', 'promo',\n",
       "       'state_holiday', 'school_holiday', 'id', 'store_type', 'assortment',\n",
       "       'competition_distance', 'competition_open_since_month',\n",
       "       'competition_open_since_year', 'promo2', 'promo2_since_week',\n",
       "       'promo2_since_year', 'promo_interval', 'month_map', 'is_promo', 'year',\n",
       "       'month', 'day', 'week_of_year', 'year_week', 'competition_since',\n",
       "       'competition_time_month', 'promo_since', 'promo_time_week'],\n",
       "      dtype='object')"
      ]
     },
     "execution_count": 29,
     "metadata": {},
     "output_type": "execute_result"
    }
   ],
   "source": [
    "df3.columns"
   ]
  }
 ],
 "metadata": {
  "kernelspec": {
   "display_name": "Python 3",
   "language": "python",
   "name": "python3"
  },
  "language_info": {
   "codemirror_mode": {
    "name": "ipython",
    "version": 3
   },
   "file_extension": ".py",
   "mimetype": "text/x-python",
   "name": "python",
   "nbconvert_exporter": "python",
   "pygments_lexer": "ipython3",
   "version": "3.13.1"
  }
 },
 "nbformat": 4,
 "nbformat_minor": 2
}
